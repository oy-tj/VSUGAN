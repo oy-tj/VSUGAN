{
 "cells": [
  {
   "cell_type": "code",
   "execution_count": null,
   "metadata": {},
   "outputs": [],
   "source": [
    "import sys\n",
    "sys.path.append('/opt/anaconda3/lib/python38.zip')\n",
    "sys.path.append('/opt/anaconda3/lib/python3.8')\n",
    "sys.path.append('/opt/anaconda3/lib/python3.8/lib-dynload')\n",
    "sys.path.append('/home/oytj/.local/lib/python3.8/site-packages')\n",
    "sys.path.append('/opt/anaconda3/lib/python3.8/site-packages')\n",
    "\n",
    "import librosa\n",
    "import librosa.display\n",
    "from matplotlib import pyplot as plt \n",
    "import IPython\n",
    "import math\n",
    "import numpy as np\n",
    "import os\n",
    "import random\n",
    "import time\n",
    "import numpy as np\n",
    "import cv2 as cv\n",
    "import torch\n",
    "import torch.nn as nn\n",
    "import torch.nn.functional as F\n",
    "from torch.utils.data import DataLoader\n",
    "from torch import optim\n",
    "from torch.autograd import Variable\n",
    "import pyworld\n",
    "import pysptk\n",
    "from tqdm import tqdm\n",
    "import model\n",
    "from model import wav2spectrum\n",
    "from model import spectrum2wav"
   ]
  },
  {
   "cell_type": "code",
   "execution_count": null,
   "metadata": {},
   "outputs": [],
   "source": [
    "#读取模型\n",
    "loadNetName='./trainedModel/Gan4-last20210205.pth'\n",
    "savedNet=torch.load(loadNetName)\n",
    "generator=model.Generator().cpu()\n",
    "generator.load_state_dict(savedNet['netG'])"
   ]
  },
  {
   "cell_type": "code",
   "execution_count": null,
   "metadata": {},
   "outputs": [],
   "source": [
    "#读取wav文件，并保存为npy\n",
    "def wav2npy():\n",
    "    noisyPath='%s/%s/%s/'%(L0Dir,L1Dir,noisyDir)\n",
    "    labelPath='%s/%s/%s/'%(L0Dir,L1Dir,labelDir)\n",
    "    stylePath='%s/%s/%s/'%(L0Dir,L1Dir,styleDir)\n",
    "    noisyNpyPath='%s/%s/temp/%s_npy/'%(L0Dir,L1Dir,noisyDir)\n",
    "    labelNpyPath='%s/%s/temp/%s_npy/'%(L0Dir,L1Dir,labelDir)\n",
    "    styleNpyPath='%s/%s/temp/%s_npy/'%(L0Dir,L1Dir,styleDir)\n",
    "    if not os.path.exists(noisyNpyPath):\n",
    "        os.makedirs(noisyNpyPath) \n",
    "    if not os.path.exists(labelNpyPath):\n",
    "        os.makedirs(labelNpyPath) \n",
    "    if not os.path.exists(styleNpyPath):\n",
    "        os.makedirs(styleNpyPath) \n",
    "    filenames=os.listdir(noisyPath)\n",
    "    filenames.sort()\n",
    "    for filename in tqdm(filenames,desc='Loading '+noisyPath):\n",
    "        src_voc, sr = librosa.load(noisyPath+filename,sr=None)#读取\n",
    "        np.save(noisyNpyPath+filename+'.npy',src_voc)    \n",
    "    filenames=os.listdir(labelPath)\n",
    "    filenames.sort()\n",
    "    for filename in tqdm(filenames,desc='Loading '+labelPath):\n",
    "        src_voc, sr = librosa.load(labelPath+filename,sr=None)#读取\n",
    "        np.save(labelNpyPath+filename+'.npy',src_voc)    \n",
    "    filenames=os.listdir(stylePath)\n",
    "    filenames.sort()\n",
    "    for filename in tqdm(filenames,desc='Loading '+stylePath):\n",
    "        src_voc, sr = librosa.load(stylePath+filename,sr=None)#读取\n",
    "        np.save(styleNpyPath+filename+'.npy',src_voc)  \n",
    "        "
   ]
  },
  {
   "cell_type": "code",
   "execution_count": null,
   "metadata": {},
   "outputs": [],
   "source": [
    "#读取npy.产生输出\n",
    "def ssu():\n",
    "    noisyNpyPath='%s/%s/temp/%s_npy/'%(L0Dir,L1Dir,noisyDir)\n",
    "    labelNpyPath='%s/%s/temp/%s_npy/'%(L0Dir,L1Dir,labelDir)\n",
    "    styleNpyPath='%s/%s/temp/%s_npy/'%(L0Dir,L1Dir,styleDir)\n",
    "    savePath='%s/%s/clean'%(L0Dir,L1Dir)\n",
    "    if not os.path.exists(savePath):\n",
    "        os.makedirs(savePath) \n",
    "    #saveFile = open(savePath,'w')\n",
    "    filenames=os.listdir(noisyNpyPath)\n",
    "    filenames.sort()\n",
    "    for filename in tqdm(filenames,desc='Creating %s'%(savePath)):\n",
    "        noisy=np.load(noisyNpyPath+filename)\n",
    "        label=np.load(labelNpyPath+filename)\n",
    "        style=np.load(styleNpyPath+filename)\n",
    "        noisy=wav2spectrum(noisy)#转频谱\n",
    "        noisy=torch.from_numpy(noisy.reshape(1,1,noisy.shape[0],noisy.shape[1]))#转tensor\n",
    "        style=wav2spectrum(style)#转频谱\n",
    "        style=torch.from_numpy(style.reshape(1,1,style.shape[0],style.shape[1]))#转tensor\n",
    "        out=generator(noisy,style)\n",
    "        clean=out.detach().numpy()[0,0]\n",
    "        clean=spectrum2wav(clean)\n",
    "        savename=os.path.splitext(filename)[0]\n",
    "        librosa.output.write_wav(savePath+'/'+savename,clean,16384,norm=False)\n"
   ]
  },
  {
   "cell_type": "code",
   "execution_count": null,
   "metadata": {},
   "outputs": [],
   "source": [
    "L0Dir='data/test'\n",
    "L1Dir='THCHS30'\n",
    "noisyDir='noisy'\n",
    "labelDir='label'\n",
    "styleDir='style'\n",
    "wav2npy()\n",
    "ssu()"
   ]
  },
  {
   "cell_type": "code",
   "execution_count": null,
   "metadata": {},
   "outputs": [],
   "source": [
    "L0Dir='data/test'\n",
    "L1Dir='ST-CMDS'\n",
    "noisyDir='noisy'\n",
    "labelDir='label'\n",
    "styleDir='style'\n",
    "wav2npy()\n",
    "ssu()"
   ]
  },
  {
   "cell_type": "code",
   "execution_count": null,
   "metadata": {},
   "outputs": [],
   "source": [
    "L0Dir='data/test'\n",
    "L1Dir='libriTTS'\n",
    "noisyDir='noisy'\n",
    "labelDir='label'\n",
    "styleDir='style'\n",
    "wav2npy()\n",
    "ssu()"
   ]
  },
  {
   "cell_type": "code",
   "execution_count": null,
   "metadata": {},
   "outputs": [],
   "source": [
    "L0Dir='data/test'\n",
    "L1Dir='VCTK-Corpus'\n",
    "noisyDir='noisy'\n",
    "labelDir='label'\n",
    "styleDir='style'\n",
    "wav2npy()\n",
    "ssu()"
   ]
  },
  {
   "cell_type": "code",
   "execution_count": null,
   "metadata": {},
   "outputs": [],
   "source": [
    "L0Dir='data/test'\n",
    "L1Dir='VCTK_Demand'\n",
    "noisyDir='noisy'\n",
    "labelDir='label'\n",
    "styleDir='style'\n",
    "wav2npy()\n",
    "ssu()"
   ]
  },
  {
   "cell_type": "code",
   "execution_count": null,
   "metadata": {},
   "outputs": [],
   "source": [
    "L0Dir='data/test'\n",
    "L1Dir='VCTK_NoiseX92'\n",
    "noisyDir='noisy'\n",
    "labelDir='label'\n",
    "styleDir='style'\n",
    "wav2npy()\n",
    "ssu()"
   ]
  },
  {
   "cell_type": "code",
   "execution_count": null,
   "metadata": {},
   "outputs": [],
   "source": [
    "L0Dir='data/test'\n",
    "L1Dir='TIMIT'\n",
    "noisyDir='noisy'\n",
    "labelDir='label'\n",
    "styleDir='style'\n",
    "wav2npy()\n",
    "ssu()"
   ]
  },
  {
   "cell_type": "code",
   "execution_count": null,
   "metadata": {},
   "outputs": [],
   "source": []
  }
 ],
 "metadata": {
  "kernelspec": {
   "display_name": "Python 3",
   "language": "python",
   "name": "python3"
  },
  "language_info": {
   "codemirror_mode": {
    "name": "ipython",
    "version": 3
   },
   "file_extension": ".py",
   "mimetype": "text/x-python",
   "name": "python",
   "nbconvert_exporter": "python",
   "pygments_lexer": "ipython3",
   "version": "3.8.10"
  }
 },
 "nbformat": 4,
 "nbformat_minor": 4
}
